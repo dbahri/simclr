{
 "cells": [
  {
   "cell_type": "code",
   "execution_count": 22,
   "id": "4479360c",
   "metadata": {},
   "outputs": [
    {
     "name": "stdout",
     "output_type": "stream",
     "text": [
      "n_components_95\n",
      "n_components_98\n",
      "n_components_99\n",
      "n_components_99.9\n",
      "n_components_99.99\n",
      "train/weight_decay\n",
      "train/loss\n",
      "train/sam_loss\n",
      "train/contrast_loss\n",
      "train/contrast_acc\n",
      "train/contrast_entropy\n",
      "train/supervised_loss\n",
      "train/supervised_acc\n",
      "learning_rate\n",
      "n_components_95\n",
      "n_components_98\n",
      "n_components_99\n",
      "n_components_99.9\n",
      "n_components_99.99\n",
      "train/weight_decay\n",
      "train/loss\n",
      "train/sam_loss\n",
      "train/contrast_loss\n",
      "train/contrast_acc\n",
      "train/contrast_entropy\n",
      "train/supervised_loss\n",
      "train/supervised_acc\n",
      "learning_rate\n"
     ]
    }
   ],
   "source": [
    "import tensorflow as tf\n",
    "from tensorflow.python.summary.summary_iterator import summary_iterator\n",
    "from collections import defaultdict\n",
    "\n",
    "metrics = defaultdict(list)\n",
    "for summary in summary_iterator(\"/Users/dbahri/simclr/tf2/output_dir/test2/events.out.tfevents.1684105648.gpu2.8464.0.v2\"):\n",
    "    for value in summary.summary.value:\n",
    "        if value.tag != \"image\":\n",
    "            metrics[value.tag].append(tf.io.decode_raw(value.tensor.tensor_content, value.tensor.dtype)[0].numpy())"
   ]
  },
  {
   "cell_type": "code",
   "execution_count": 23,
   "id": "363ff800",
   "metadata": {},
   "outputs": [
    {
     "data": {
      "text/plain": [
       "defaultdict(list,\n",
       "            {'n_components_95': [1.0, 2.0],\n",
       "             'n_components_98': [1.0, 3.0],\n",
       "             'n_components_99': [1.0, 3.0],\n",
       "             'n_components_99.9': [6.0, 5.0],\n",
       "             'n_components_99.99': [43.0, 7.0],\n",
       "             'train/weight_decay': [0.8955909, 1.225336],\n",
       "             'train/loss': [24.095657, 117.67078],\n",
       "             'train/sam_loss': [25.778261, 121.45125],\n",
       "             'train/contrast_loss': [12.631592, 12.676004],\n",
       "             'train/contrast_acc': [0.04597816, 0.04288903],\n",
       "             'train/contrast_entropy': [5.897001, 5.861084],\n",
       "             'train/supervised_loss': [12.251071, 107.5499],\n",
       "             'train/supervised_acc': [0.1429568, 0.13694794],\n",
       "             'learning_rate': [0.20081967, 0.40163934]})"
      ]
     },
     "execution_count": 23,
     "metadata": {},
     "output_type": "execute_result"
    }
   ],
   "source": [
    "metrics"
   ]
  },
  {
   "cell_type": "code",
   "execution_count": 10,
   "id": "27e78e85",
   "metadata": {},
   "outputs": [
    {
     "data": {
      "text/plain": [
       "1"
      ]
     },
     "execution_count": 10,
     "metadata": {},
     "output_type": "execute_result"
    }
   ],
   "source": []
  },
  {
   "cell_type": "code",
   "execution_count": null,
   "id": "d704e570",
   "metadata": {},
   "outputs": [],
   "source": []
  }
 ],
 "metadata": {
  "kernelspec": {
   "display_name": "Python 3 (ipykernel)",
   "language": "python",
   "name": "python3"
  },
  "language_info": {
   "codemirror_mode": {
    "name": "ipython",
    "version": 3
   },
   "file_extension": ".py",
   "mimetype": "text/x-python",
   "name": "python",
   "nbconvert_exporter": "python",
   "pygments_lexer": "ipython3",
   "version": "3.8.2"
  }
 },
 "nbformat": 4,
 "nbformat_minor": 5
}
